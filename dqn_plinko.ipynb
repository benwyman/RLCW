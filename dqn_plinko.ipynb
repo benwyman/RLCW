{
 "cells": [
  {
   "cell_type": "markdown",
   "metadata": {},
   "source": [
    "# Improving the Plinko DQN algorithm using Double Q-Learning"
   ]
  },
  {
   "cell_type": "code",
   "execution_count": 3,
   "metadata": {},
   "outputs": [],
   "source": [
    "import random\n",
    "import pandas as pd\n",
    "from IPython.display import display\n",
    "from collections import defaultdict, deque\n",
    "import numpy as np\n",
    "import copy # For deep copying Q-table"
   ]
  },
  {
   "cell_type": "markdown",
   "metadata": {},
   "source": [
    "### Improvement 1: Double Q-Learning (Two Q-Tables)"
   ]
  },
  {
   "cell_type": "markdown",
   "metadata": {},
   "source": [
    "#### Motivation: \n",
    "The original Plinko code uses standard Q-learning. Q-learning is known to suffer from maximization bias, leading to overestimation of action values. This happens because it uses the same Q-table to both select the best next action (max_a' Q(s', a')) and evaluate the value of that action (Q(s', argmax_a' Q(s', a'))). If some action's value is overestimated due to noise or limited sampling, the max operation is likely to select it, propagating the overestimation. Double Q-learning decouples selection and evaluation. We'll use the online Q-table (q_table_online) to select the best next action (argmax_a' Q_online(s', a')) but use the target Q-table (q_table_target) to evaluate the value of that chosen action (Q_target(s', argmax_a' Q_online(s', a'))). This reduces the chance of consistently selecting actions based on overestimated values."
   ]
  },
  {
   "cell_type": "markdown",
   "metadata": {},
   "source": [
    "#### Expectation: \n",
    "This should lead to more accurate Q-value estimates, potentially resulting in a more stable learning process and convergence to a better final policy (higher success rate for the target bucket). It might prevent the agent from getting stuck favouring suboptimal paths due to early overestimations."
   ]
  },
  {
   "cell_type": "markdown",
   "metadata": {},
   "source": [
    "### Global Trackers and Dictionaries"
   ]
  },
  {
   "cell_type": "code",
   "execution_count": null,
   "metadata": {},
   "outputs": [],
   "source": [
    "pipes = {}  # maps (x, y) of pipe end -> (x, y) of connected destination\n",
    "blocks = {}  # maps row_y -> {x: original tile} for restoring blocked rows\n",
    "\n",
    "# --- Q-Learning Specific ---\n",
    "# Two Q-tables for Double DQN\n",
    "q_table_online = defaultdict(lambda: defaultdict(float))\n",
    "q_table_target = defaultdict(lambda: defaultdict(float))\n",
    "\n",
    "# --- Experience Replay ---\n",
    "Experience = namedtuple(\"Experience\", field_names=[\"state\", \"action\", \"reward\", \"next_state\", \"done\"])\n",
    "replay_buffer = deque(maxlen=10000) # Store last 10k transitions\n",
    "batch_size = 64\n",
    "\n",
    "# --- Statistics Trackers ---\n",
    "bucket_tracker = {i: 0 for i in range(5)}  # maps bucket index -> number of landings\n",
    "ledge_tracker = defaultdict(int)  # maps state tuple -> number of visits\n",
    "block_row_tracker = defaultdict(int) # maps block state tuple -> number of visits\n",
    "spike_tracker = defaultdict(int)  # maps spike row y -> number of hits\n",
    "pipe_tracker = defaultdict(int)  # maps (x, y) of pipe entry/exit -> number of uses\n",
    "button_tracker = defaultdict(int)  # maps (x, y) of button tile -> number of presses\n",
    "episode_rewards = [] # Track rewards per episode"
   ]
  },
  {
   "cell_type": "markdown",
   "metadata": {},
   "source": [
    "### Board Functions"
   ]
  },
  {
   "cell_type": "code",
   "execution_count": null,
   "metadata": {},
   "outputs": [],
   "source": [
    "def generate_grid(width, height):\n",
    "    grid = {}\n",
    "    for y in range(height):\n",
    "        for x in range(width):\n",
    "            if (y % 2 == 0 and x % 2 == 1) or (y % 2 == 1 and x % 2 == 0):\n",
    "                grid[(x, height - 1 - y)] = 'O'  # place pegs in a checkered pattern\n",
    "            else:\n",
    "                grid[(x, height - 1 - y)] = ' '  # empty spaces between pegs\n",
    "    return grid\n",
    "\n",
    "def mark_ledge(grid, start_x, length, ledge_y, button_x=None):\n",
    "    # place a horizontal ledge starting at start_x on row ledge_y\n",
    "    for x in range(start_x, start_x + length):\n",
    "        if (x, ledge_y) not in grid or grid[(x, ledge_y)] == ' ': # Avoid overwriting pegs/other features unless empty\n",
    "            if x == button_x:\n",
    "                grid[(x, ledge_y)] = '⬒'  # mark a special button tile\n",
    "                button_tracker[(x, ledge_y)]  # initialize button in tracker\n",
    "            else:\n",
    "                grid[(x, ledge_y)] = '_'  # normal ledge tile\n",
    "    # Ledge tracker now tracks state visits, not just ledge definitions\n",
    "\n",
    "def mark_spike(grid, start_x, length, spike_y):\n",
    "    for x in range(start_x, start_x + length):\n",
    "            if (x, spike_y) not in grid or grid[(x, spike_y)] == ' ':\n",
    "            grid[(x, spike_y)] = '^'\n",
    "    spike_tracker[spike_y]  # auto-initializes to 0 if not already set\n",
    "\n",
    "def mark_pipe(grid, x, y1, y2):\n",
    "    # mark a vertical pipe that connects y1 and y2 at column x\n",
    "    top = max(y1, y2)\n",
    "    bottom = min(y1, y2)\n",
    "\n",
    "    for y in range(bottom, top + 1):\n",
    "        if y == top:\n",
    "            grid[(x, y)] = '⤓'  # down pipe entrance\n",
    "        elif y == bottom:\n",
    "            grid[(x, y)] = '↥'  # up pipe entrance\n",
    "        else:\n",
    "            tile = grid.get((x, y), ' ')\n",
    "            grid[(x, y)] = 'Φ' if tile == 'O' else '|'  # middle of the pipe\n",
    "\n",
    "    # connect both ends in the pipes map\n",
    "    pipes[(x, top)] = (x, bottom)\n",
    "    pipes[(x, bottom)] = (x, top)\n",
    "\n",
    "    # start tracking usage of this pipe\n",
    "    pipe_tracker[(x, top)]\n",
    "    pipe_tracker[(x, bottom)]\n",
    "\n",
    "def mark_slide(grid, start_x, start_y, length, direction):\n",
    "    slide_char = '\\\\\\\\' if direction == \"forward\" else '/'\n",
    "    x, y = start_x, start_y\n",
    "\n",
    "    for _ in range(length):\n",
    "        if (x, y) in grid and grid[(x, y)] == 'O':\n",
    "            grid[(x, y)] = slide_char  # replace pegs with slides\n",
    "\n",
    "        # move diagonally in the selected direction\n",
    "        if direction == \"forward\":\n",
    "            x += 1\n",
    "            y -= 1\n",
    "        else:\n",
    "            x -= 1\n",
    "            y -= 1\n",
    "\n",
    "def mark_block(grid, width, row_y):\n",
    "    if row_y in blocks:\n",
    "        return  # skip if already marked\n",
    "\n",
    "    blocks[row_y] = {}  # store original row tiles\n",
    "    for x in range(width):\n",
    "        current_tile = grid.get((x, row_y), ' ')\n",
    "        if current_tile not in {'↥', 'Φ', '⤓', '|'}:  # skip if tile is part of a pipe\n",
    "            blocks[row_y][x] = current_tile  # remember what was here\n",
    "            grid[(x, row_y)] = '█'  # mark block tile\n",
    "\n",
    "def unmark_block(grid, row_y):\n",
    "    if row_y not in blocks:\n",
    "        return  # nothing to unmark\n",
    "\n",
    "    for x, original_char in blocks[row_y].items():\n",
    "        grid[(x, row_y)] = original_char  # restore original tile\n",
    "    del blocks[row_y]  # remove from block tracker\n",
    "\n",
    "def mark_buckets(width, num_buckets):\n",
    "    buckets = {}  # maps x to bucket index\n",
    "    base_size = width // num_buckets  # base size for each bucket\n",
    "    extra = width % num_buckets  # leftover columns\n",
    "    middle_bucket = num_buckets // 2  # middle bucket index\n",
    "    start_x = 0  # starting column for current bucket\n",
    "\n",
    "    for i in range(num_buckets):\n",
    "        # add 1 to size if extra columns remain and it's not the middle bucket\n",
    "        size = base_size + (1 if extra > 0 and i != middle_bucket else 0)\n",
    "        for x in range(start_x, start_x + size):\n",
    "            buckets[x] = i  # map each column to bucket index\n",
    "        start_x += size  # move to next start column\n",
    "        if extra > 0 and i != middle_bucket:\n",
    "            extra -= 1  # use up one extra column\n",
    "\n",
    "    return buckets\n",
    "\n",
    "def visualize_grid(grid, width, height, ball_position=None, buckets=None):\n",
    "    x_labels = \"   \" + \" \".join(str(i % 10) for i in range(width))  # x-axis labels\n",
    "    print(x_labels)  # print top x-axis\n",
    "    for y in range(height - 1, -1, -1):\n",
    "        row = f\"{y:2} \"  # add y-axis label\n",
    "        for x in range(width):\n",
    "            if ball_position and (x, y) == ball_position:\n",
    "                row += 'X'  # draw ball\n",
    "            else:\n",
    "                row += grid.get((x, y), ' ')  # draw tile\n",
    "            row += \" \"\n",
    "        print(row)  # print full row\n",
    "\n",
    "    bucket_row = \"   \"\n",
    "    if buckets:\n",
    "        for x in range(width):\n",
    "            bucket_row += str(buckets.get(x, ' ')) + \" \"\n",
    "    else:\n",
    "        bucket_row += \"  \" * width\n",
    "    print(bucket_row)  # print bucket labels\n",
    "    print(x_labels)  # print bottom x-axis\n",
    "    print(\"===\" + \"=\" * (2 * width))  # draw horizontal divider"
   ]
  }
 ],
 "metadata": {
  "kernelspec": {
   "display_name": "base",
   "language": "python",
   "name": "python3"
  },
  "language_info": {
   "codemirror_mode": {
    "name": "ipython",
    "version": 3
   },
   "file_extension": ".py",
   "mimetype": "text/x-python",
   "name": "python",
   "nbconvert_exporter": "python",
   "pygments_lexer": "ipython3",
   "version": "3.12.4"
  }
 },
 "nbformat": 4,
 "nbformat_minor": 2
}
